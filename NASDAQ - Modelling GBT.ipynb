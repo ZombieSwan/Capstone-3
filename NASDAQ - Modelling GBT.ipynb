{
 "cells": [
  {
   "cell_type": "markdown",
   "id": "30d14c55",
   "metadata": {},
   "source": [
    "# NASDAQ 100 Trend Classification: Machine Learning's Approach to Identifying Major Turning Points"
   ]
  },
  {
   "cell_type": "code",
   "execution_count": 18,
   "id": "893b90ce",
   "metadata": {},
   "outputs": [],
   "source": [
    "import pandas as pd\n",
    "import matplotlib.pyplot as plt\n",
    "from sklearn.preprocessing import StandardScaler\n",
    "\n",
    "from sklearn.ensemble import GradientBoostingClassifier\n",
    "from sklearn.metrics import classification_report, accuracy_score\n",
    "from imblearn.over_sampling import SMOTE\n",
    "from sklearn.model_selection import GridSearchCV\n",
    "\n"
   ]
  },
  {
   "cell_type": "code",
   "execution_count": 2,
   "id": "0d9c7497",
   "metadata": {},
   "outputs": [],
   "source": [
    "df_interpolated = pd.read_csv('df_interpolated.csv', index_col='Date', parse_dates=True)"
   ]
  },
  {
   "cell_type": "code",
   "execution_count": 3,
   "id": "3a561736",
   "metadata": {},
   "outputs": [
    {
     "name": "stdout",
     "output_type": "stream",
     "text": [
      "            Class        GC=F         ^DJT   ^FVX   ^IRX         ^NDX  \\\n",
      "Date                                                                    \n",
      "2007-01-03      2  627.099976  4650.660156  4.657  4.915  1759.369995   \n",
      "2007-01-04      2  623.900024  4673.069824  4.605  4.900  1792.910034   \n",
      "2007-01-05      2  604.900024  4612.350098  4.644  4.910  1785.300049   \n",
      "2007-01-08      2  607.500000  4624.180176  4.658  4.910  1787.140015   \n",
      "2007-01-09      2  613.099976  4632.660156  4.655  4.945  1795.630005   \n",
      "\n",
      "                  ^RUT   ^TNX   ^VIX        ^W5000  ...  Core Inflation  \\\n",
      "Date                                                ...                   \n",
      "2007-01-03  787.419983  4.664  12.04  14246.709961  ...           208.6   \n",
      "2007-01-04  789.950012  4.618  11.51  14269.900391  ...           208.6   \n",
      "2007-01-05  775.869995  4.646  12.14  14164.799805  ...           208.6   \n",
      "2007-01-08  776.989990  4.660  12.00  14197.150391  ...           208.6   \n",
      "2007-01-09  778.330017  4.656  11.91  14204.709961  ...           208.6   \n",
      "\n",
      "            Federal Funds Rate  Consumer Sentiment  Crude Oil Prices  \\\n",
      "Date                                                                   \n",
      "2007-01-03                5.25                96.9             58.31   \n",
      "2007-01-04                5.25                96.9             55.65   \n",
      "2007-01-05                5.25                96.9             56.29   \n",
      "2007-01-08                5.25                96.9             56.08   \n",
      "2007-01-09                5.25                96.9             55.65   \n",
      "\n",
      "            Unemployment Rate  Housing Starts  Personal Saving Rate  \\\n",
      "Date                                                                  \n",
      "2007-01-03                4.6          1409.0                   2.4   \n",
      "2007-01-04                4.6          1409.0                   2.4   \n",
      "2007-01-05                4.6          1409.0                   2.4   \n",
      "2007-01-08                4.6          1409.0                   2.4   \n",
      "2007-01-09                4.6          1409.0                   2.4   \n",
      "\n",
      "            Buffet_ind  10Y-2Y Slope  10Y-3M Slope  \n",
      "Date                                                \n",
      "2007-01-03    1.002185         0.007        -0.251  \n",
      "2007-01-04    1.003816         0.013        -0.282  \n",
      "2007-01-05    0.996423         0.002        -0.264  \n",
      "2007-01-08    0.998699         0.002        -0.250  \n",
      "2007-01-09    0.999230         0.001        -0.289  \n",
      "\n",
      "[5 rows x 26 columns]\n"
     ]
    }
   ],
   "source": [
    "print(df_interpolated.head())"
   ]
  },
  {
   "cell_type": "markdown",
   "id": "7169b35c",
   "metadata": {},
   "source": [
    "### Splitting the Data\n",
    "\n",
    "Given that the data is time series, we'll split it into training, validation, and test sets chronologically:\n",
    "\n",
    "70% of the data for training\n",
    "15% for validation\n",
    "15% for testing"
   ]
  },
  {
   "cell_type": "code",
   "execution_count": 6,
   "id": "09463d3b",
   "metadata": {},
   "outputs": [
    {
     "data": {
      "text/plain": [
       "((2925, 26), (626, 26), (628, 26))"
      ]
     },
     "execution_count": 6,
     "metadata": {},
     "output_type": "execute_result"
    }
   ],
   "source": [
    "# Calculate the splitting indices\n",
    "train_size = int(0.7 * len(df_interpolated))\n",
    "val_size = int(0.15 * len(df_interpolated))\n",
    "\n",
    "# Split the data\n",
    "train = df_interpolated.iloc[:train_size]\n",
    "val = df_interpolated.iloc[train_size:train_size + val_size]\n",
    "test = df_interpolated.iloc[train_size + val_size:]\n",
    "\n",
    "train.shape, val.shape, test.shape\n"
   ]
  },
  {
   "cell_type": "markdown",
   "id": "2a745f06",
   "metadata": {},
   "source": [
    "### Standardizing the Data:\n",
    "\n",
    "We´ll standardize based on the mean and standard deviation of the training set only, and then apply these statistics to the validation and test sets. This ensures that our validation and test sets do not leak any information into the training process."
   ]
  },
  {
   "cell_type": "code",
   "execution_count": 8,
   "id": "db33a48a",
   "metadata": {},
   "outputs": [
    {
     "data": {
      "text/plain": [
       "array([[-2.10853346e+00, -8.10127021e-01,  2.71329137e+00,\n",
       "         3.32633398e+00, -9.54600519e-01, -5.65129307e-01,\n",
       "         2.18202966e+00, -7.96966302e-01, -5.63428044e-01,\n",
       "         3.11776120e-01,  1.08543507e+00, -4.66958184e-01,\n",
       "        -3.96099807e-01, -1.30615745e+00, -2.08589594e+00,\n",
       "        -1.67748531e+00,  3.04246495e+00,  1.32262896e+00,\n",
       "        -7.33670221e-01, -1.02192918e+00,  1.67994485e+00,\n",
       "        -2.21598399e+00, -5.00880904e-02, -2.06406999e+00,\n",
       "        -2.57692879e+00],\n",
       "       [-2.11995076e+00, -7.99732719e-01,  2.66094339e+00,\n",
       "         3.31441758e+00, -9.33383778e-01, -5.56960314e-01,\n",
       "         2.12900359e+00, -8.52644824e-01, -5.59164790e-01,\n",
       "         1.43370542e-01,  2.77605842e-01, -8.37904844e-01,\n",
       "        -3.96099807e-01, -1.30615745e+00, -2.08589594e+00,\n",
       "        -1.67748531e+00,  3.04246495e+00,  1.32262896e+00,\n",
       "        -8.47017078e-01, -1.02192918e+00,  1.67994485e+00,\n",
       "        -2.21598399e+00, -4.23350318e-02, -2.04863472e+00,\n",
       "        -2.61175014e+00],\n",
       "       [-2.18774202e+00, -8.27896420e-01,  2.70020438e+00,\n",
       "         3.32236172e+00, -9.38197698e-01, -6.02422066e-01,\n",
       "         2.16128019e+00, -7.86460875e-01, -5.78486145e-01,\n",
       "         3.06616000e-02,  1.70609401e-01, -9.12198988e-01,\n",
       "        -3.96099807e-01, -1.30615745e+00, -2.08589594e+00,\n",
       "        -1.67748531e+00,  3.04246495e+00,  1.32262896e+00,\n",
       "        -8.19745654e-01, -1.02192918e+00,  1.67994485e+00,\n",
       "        -2.21598399e+00, -7.74724147e-02, -2.07693291e+00,\n",
       "        -2.59153124e+00],\n",
       "       [-2.17846541e+00, -8.22409261e-01,  2.71429799e+00,\n",
       "         3.32236172e+00, -9.37033774e-01, -5.98805810e-01,\n",
       "         2.17741848e+00, -8.01168453e-01, -5.72538917e-01,\n",
       "         1.81944595e-04, -2.06964812e-01, -1.04850682e+00,\n",
       "        -3.96099807e-01, -1.30615745e+00, -2.08589594e+00,\n",
       "        -1.67748531e+00,  3.04246495e+00,  1.32262896e+00,\n",
       "        -8.28694090e-01, -1.02192918e+00,  1.67994485e+00,\n",
       "        -2.21598399e+00, -6.66569191e-02, -2.07693291e+00,\n",
       "        -2.57580561e+00],\n",
       "       [-2.15848491e+00, -8.18475982e-01,  2.71127814e+00,\n",
       "         3.35016717e+00, -9.31663180e-01, -5.94479113e-01,\n",
       "         2.17280786e+00, -8.10623317e-01, -5.71149190e-01,\n",
       "         1.94784171e-02,  3.75086066e-01, -8.08278024e-01,\n",
       "        -3.96099807e-01, -1.30615745e+00, -2.08589594e+00,\n",
       "        -1.67748531e+00,  3.04246495e+00,  1.32262896e+00,\n",
       "        -8.47017078e-01, -1.02192918e+00,  1.67994485e+00,\n",
       "        -2.21598399e+00, -6.41295924e-02, -2.07950525e+00,\n",
       "        -2.61961295e+00]])"
      ]
     },
     "execution_count": 8,
     "metadata": {},
     "output_type": "execute_result"
    }
   ],
   "source": [
    "# Separate the target and features\n",
    "X_train = train.drop(\"Class\", axis=1)\n",
    "y_train = train[\"Class\"]\n",
    "\n",
    "X_val = val.drop(\"Class\", axis=1)\n",
    "y_val = val[\"Class\"]\n",
    "\n",
    "X_test = test.drop(\"Class\", axis=1)\n",
    "y_test = test[\"Class\"]\n",
    "\n",
    "# Standardize the features\n",
    "scaler = StandardScaler()\n",
    "X_train_scaled = scaler.fit_transform(X_train)\n",
    "X_val_scaled = scaler.transform(X_val)\n",
    "X_test_scaled = scaler.transform(X_test)\n",
    "\n",
    "X_train_scaled[:5, :] \n"
   ]
  },
  {
   "cell_type": "markdown",
   "id": "4e5edbe6",
   "metadata": {},
   "source": [
    "### Building Gradient Boosted Trees Model:\n",
    "\n",
    "Next, we'll build a Gradient Boosted Trees (GBT) model using the training data and validate its performance using the validation set."
   ]
  },
  {
   "cell_type": "code",
   "execution_count": 16,
   "id": "4845374c",
   "metadata": {},
   "outputs": [
    {
     "data": {
      "text/plain": [
       "(0.39456869009584666,\n",
       " '              precision    recall  f1-score   support\\n\\n           1       0.10      0.57      0.16        56\\n           2       0.81      0.40      0.54       514\\n           3       0.21      0.12      0.16        56\\n\\n    accuracy                           0.39       626\\n   macro avg       0.37      0.37      0.29       626\\nweighted avg       0.69      0.39      0.47       626\\n')"
      ]
     },
     "execution_count": 16,
     "metadata": {},
     "output_type": "execute_result"
    }
   ],
   "source": [
    "# Initialize the GradientBoostingClassifier\n",
    "gbt = GradientBoostingClassifier(n_estimators=500, learning_rate=0.05, max_depth=4, random_state=42)\n",
    "\n",
    "# Train the model\n",
    "gbt.fit(X_train_scaled, y_train)\n",
    "\n",
    "# Predict on validation set\n",
    "y_val_pred = gbt.predict(X_val_scaled)\n",
    "\n",
    "# Evaluate the model on validation set\n",
    "accuracy = accuracy_score(y_val, y_val_pred)\n",
    "classification_rep = classification_report(y_val, y_val_pred)\n",
    "\n",
    "accuracy, classification_rep"
   ]
  },
  {
   "cell_type": "markdown",
   "id": "687092df",
   "metadata": {},
   "source": [
    "The GBT model achieved an accuracy of approximately 39.5% on the validation set. Here's a detailed breakdown of the classification report:\n",
    "\n",
    "Class 1:\n",
    "Precision: 10%\n",
    "Recall: 57%\n",
    "F1-score: 17%\n",
    "\n",
    "Class 2:\n",
    "Precision: 82%\n",
    "Recall: 40%\n",
    "F1-score: 54%\n",
    "\n",
    "Class 3:\n",
    "Precision: 19%\n",
    "Recall: 16%\n",
    "F1-score: 17%\n",
    "\n",
    "\n",
    "The accuracy is relatively low, suggesting that the model may not be capturing the underlying patterns of the data well or that the classes are challenging to distinguish based on the provided features.\n",
    "\n",
    "When dealing with an unbalanced dataset, as it seems to be in your case, the accuracy metric alone can be misleading. This is because models can achieve high accuracy by simply predicting the majority class, which isn't helpful.\n",
    "\n",
    "To improve the model's performance we will use oversampling -> Increase the number of minority classes samples by duplicating them or generating synthetic samples using SMOTE (Synthetic Minority Over-sampling Technique).\n"
   ]
  },
  {
   "cell_type": "markdown",
   "id": "e08ed1b3",
   "metadata": {},
   "source": [
    "### Addressing Imbalance with SMOTE\n",
    "\n",
    "First, we're using the SMOTE technique to oversample the minority class(es) in the training data. The purpose of this step is to balance the number of instances across classes, which can potentially help improve classifier performance on imbalanced datasets.\n",
    "\n",
    "Now, X_train_resampled and y_train_resampled contain the augmented training data where all classes have an equal number of instances."
   ]
  },
  {
   "cell_type": "code",
   "execution_count": 19,
   "id": "89be900e",
   "metadata": {},
   "outputs": [],
   "source": [
    "smote = SMOTE(random_state=42)\n",
    "X_train_resampled, y_train_resampled = smote.fit_resample(X_train_scaled, y_train)\n"
   ]
  },
  {
   "cell_type": "markdown",
   "id": "2863dfa9",
   "metadata": {},
   "source": [
    "### Hyperparameter Tuning with GridSearchCV\n",
    "\n",
    "After handling the class imbalance, we want to find the best hyperparameters for our classifier. GridSearchCV performs a systematic exploration of multiple combinations of hyperparameters, and it identifies the combination that gives the best performance (based on a chosen scoring metric, in this case, f1_macro)."
   ]
  },
  {
   "cell_type": "code",
   "execution_count": 20,
   "id": "6f8feefb",
   "metadata": {
    "scrolled": false
   },
   "outputs": [
    {
     "name": "stdout",
     "output_type": "stream",
     "text": [
      "Fitting 5 folds for each of 48 candidates, totalling 240 fits\n",
      "[CV 1/5] END learning_rate=0.001, max_depth=3, n_estimators=100;, score=0.412 total time=  15.3s\n",
      "[CV 2/5] END learning_rate=0.001, max_depth=3, n_estimators=100;, score=0.441 total time=  14.6s\n",
      "[CV 3/5] END learning_rate=0.001, max_depth=3, n_estimators=100;, score=0.475 total time=  15.4s\n",
      "[CV 4/5] END learning_rate=0.001, max_depth=3, n_estimators=100;, score=0.376 total time=  16.8s\n",
      "[CV 5/5] END learning_rate=0.001, max_depth=3, n_estimators=100;, score=0.419 total time=  15.8s\n",
      "[CV 1/5] END learning_rate=0.001, max_depth=3, n_estimators=200;, score=0.419 total time=  32.0s\n",
      "[CV 2/5] END learning_rate=0.001, max_depth=3, n_estimators=200;, score=0.459 total time=  30.5s\n",
      "[CV 3/5] END learning_rate=0.001, max_depth=3, n_estimators=200;, score=0.475 total time=  34.4s\n",
      "[CV 4/5] END learning_rate=0.001, max_depth=3, n_estimators=200;, score=0.397 total time=  30.9s\n",
      "[CV 5/5] END learning_rate=0.001, max_depth=3, n_estimators=200;, score=0.423 total time=  29.2s\n",
      "[CV 1/5] END learning_rate=0.001, max_depth=3, n_estimators=500;, score=0.454 total time= 1.2min\n",
      "[CV 2/5] END learning_rate=0.001, max_depth=3, n_estimators=500;, score=0.460 total time= 1.2min\n",
      "[CV 3/5] END learning_rate=0.001, max_depth=3, n_estimators=500;, score=0.511 total time= 1.2min\n",
      "[CV 4/5] END learning_rate=0.001, max_depth=3, n_estimators=500;, score=0.443 total time= 1.2min\n",
      "[CV 5/5] END learning_rate=0.001, max_depth=3, n_estimators=500;, score=0.427 total time= 1.3min\n",
      "[CV 1/5] END learning_rate=0.001, max_depth=4, n_estimators=100;, score=0.426 total time=  19.5s\n",
      "[CV 2/5] END learning_rate=0.001, max_depth=4, n_estimators=100;, score=0.507 total time=  20.9s\n",
      "[CV 3/5] END learning_rate=0.001, max_depth=4, n_estimators=100;, score=0.514 total time=  20.6s\n",
      "[CV 4/5] END learning_rate=0.001, max_depth=4, n_estimators=100;, score=0.473 total time=  19.1s\n",
      "[CV 5/5] END learning_rate=0.001, max_depth=4, n_estimators=100;, score=0.425 total time=  18.1s\n",
      "[CV 1/5] END learning_rate=0.001, max_depth=4, n_estimators=200;, score=0.427 total time=  40.4s\n",
      "[CV 2/5] END learning_rate=0.001, max_depth=4, n_estimators=200;, score=0.555 total time=  38.9s\n",
      "[CV 3/5] END learning_rate=0.001, max_depth=4, n_estimators=200;, score=0.518 total time=  41.4s\n",
      "[CV 4/5] END learning_rate=0.001, max_depth=4, n_estimators=200;, score=0.521 total time=  39.3s\n",
      "[CV 5/5] END learning_rate=0.001, max_depth=4, n_estimators=200;, score=0.480 total time=  39.9s\n",
      "[CV 1/5] END learning_rate=0.001, max_depth=4, n_estimators=500;, score=0.467 total time= 1.7min\n",
      "[CV 2/5] END learning_rate=0.001, max_depth=4, n_estimators=500;, score=0.557 total time= 1.7min\n",
      "[CV 3/5] END learning_rate=0.001, max_depth=4, n_estimators=500;, score=0.550 total time= 1.7min\n",
      "[CV 4/5] END learning_rate=0.001, max_depth=4, n_estimators=500;, score=0.481 total time= 1.6min\n",
      "[CV 5/5] END learning_rate=0.001, max_depth=4, n_estimators=500;, score=0.479 total time= 1.7min\n",
      "[CV 1/5] END learning_rate=0.001, max_depth=5, n_estimators=100;, score=0.454 total time=  25.1s\n",
      "[CV 2/5] END learning_rate=0.001, max_depth=5, n_estimators=100;, score=0.577 total time=  23.3s\n",
      "[CV 3/5] END learning_rate=0.001, max_depth=5, n_estimators=100;, score=0.547 total time=  23.0s\n",
      "[CV 4/5] END learning_rate=0.001, max_depth=5, n_estimators=100;, score=0.569 total time=  22.6s\n",
      "[CV 5/5] END learning_rate=0.001, max_depth=5, n_estimators=100;, score=0.487 total time=  26.0s\n",
      "[CV 1/5] END learning_rate=0.001, max_depth=5, n_estimators=200;, score=0.488 total time=  53.7s\n",
      "[CV 2/5] END learning_rate=0.001, max_depth=5, n_estimators=200;, score=0.588 total time=  49.7s\n",
      "[CV 3/5] END learning_rate=0.001, max_depth=5, n_estimators=200;, score=0.572 total time=  51.2s\n",
      "[CV 4/5] END learning_rate=0.001, max_depth=5, n_estimators=200;, score=0.593 total time=  53.7s\n",
      "[CV 5/5] END learning_rate=0.001, max_depth=5, n_estimators=200;, score=0.496 total time=  51.3s\n",
      "[CV 1/5] END learning_rate=0.001, max_depth=5, n_estimators=500;, score=0.515 total time= 2.0min\n",
      "[CV 2/5] END learning_rate=0.001, max_depth=5, n_estimators=500;, score=0.597 total time= 2.0min\n",
      "[CV 3/5] END learning_rate=0.001, max_depth=5, n_estimators=500;, score=0.581 total time= 2.1min\n",
      "[CV 4/5] END learning_rate=0.001, max_depth=5, n_estimators=500;, score=0.574 total time= 2.1min\n",
      "[CV 5/5] END learning_rate=0.001, max_depth=5, n_estimators=500;, score=0.499 total time= 2.1min\n",
      "[CV 1/5] END learning_rate=0.001, max_depth=6, n_estimators=100;, score=0.501 total time=  26.9s\n",
      "[CV 2/5] END learning_rate=0.001, max_depth=6, n_estimators=100;, score=0.573 total time=  26.6s\n",
      "[CV 3/5] END learning_rate=0.001, max_depth=6, n_estimators=100;, score=0.626 total time=  27.2s\n",
      "[CV 4/5] END learning_rate=0.001, max_depth=6, n_estimators=100;, score=0.616 total time=  26.7s\n",
      "[CV 5/5] END learning_rate=0.001, max_depth=6, n_estimators=100;, score=0.531 total time=  26.2s\n",
      "[CV 1/5] END learning_rate=0.001, max_depth=6, n_estimators=200;, score=0.514 total time=  55.0s\n",
      "[CV 2/5] END learning_rate=0.001, max_depth=6, n_estimators=200;, score=0.585 total time=  54.2s\n",
      "[CV 3/5] END learning_rate=0.001, max_depth=6, n_estimators=200;, score=0.633 total time=  54.2s\n",
      "[CV 4/5] END learning_rate=0.001, max_depth=6, n_estimators=200;, score=0.625 total time= 1.0min\n",
      "[CV 5/5] END learning_rate=0.001, max_depth=6, n_estimators=200;, score=0.528 total time=  53.7s\n",
      "[CV 1/5] END learning_rate=0.001, max_depth=6, n_estimators=500;, score=0.553 total time= 2.4min\n",
      "[CV 2/5] END learning_rate=0.001, max_depth=6, n_estimators=500;, score=0.594 total time= 2.8min\n",
      "[CV 3/5] END learning_rate=0.001, max_depth=6, n_estimators=500;, score=0.635 total time= 2.5min\n",
      "[CV 4/5] END learning_rate=0.001, max_depth=6, n_estimators=500;, score=0.629 total time= 2.7min\n",
      "[CV 5/5] END learning_rate=0.001, max_depth=6, n_estimators=500;, score=0.534 total time= 2.8min\n",
      "[CV 1/5] END learning_rate=0.01, max_depth=3, n_estimators=100;, score=0.469 total time=  18.5s\n",
      "[CV 2/5] END learning_rate=0.01, max_depth=3, n_estimators=100;, score=0.485 total time=  16.9s\n",
      "[CV 3/5] END learning_rate=0.01, max_depth=3, n_estimators=100;, score=0.537 total time=  17.8s\n",
      "[CV 4/5] END learning_rate=0.01, max_depth=3, n_estimators=100;, score=0.463 total time=  18.1s\n",
      "[CV 5/5] END learning_rate=0.01, max_depth=3, n_estimators=100;, score=0.450 total time=  18.0s\n",
      "[CV 1/5] END learning_rate=0.01, max_depth=3, n_estimators=200;, score=0.492 total time=  36.6s\n",
      "[CV 2/5] END learning_rate=0.01, max_depth=3, n_estimators=200;, score=0.520 total time=  36.1s\n",
      "[CV 3/5] END learning_rate=0.01, max_depth=3, n_estimators=200;, score=0.552 total time=  33.3s\n",
      "[CV 4/5] END learning_rate=0.01, max_depth=3, n_estimators=200;, score=0.498 total time=  35.5s\n",
      "[CV 5/5] END learning_rate=0.01, max_depth=3, n_estimators=200;, score=0.493 total time=  36.1s\n",
      "[CV 1/5] END learning_rate=0.01, max_depth=3, n_estimators=500;, score=0.527 total time= 1.5min\n",
      "[CV 2/5] END learning_rate=0.01, max_depth=3, n_estimators=500;, score=0.594 total time= 1.5min\n",
      "[CV 3/5] END learning_rate=0.01, max_depth=3, n_estimators=500;, score=0.580 total time= 1.5min\n",
      "[CV 4/5] END learning_rate=0.01, max_depth=3, n_estimators=500;, score=0.578 total time= 1.5min\n",
      "[CV 5/5] END learning_rate=0.01, max_depth=3, n_estimators=500;, score=0.527 total time= 1.5min\n",
      "[CV 1/5] END learning_rate=0.01, max_depth=4, n_estimators=100;, score=0.519 total time=  23.7s\n",
      "[CV 2/5] END learning_rate=0.01, max_depth=4, n_estimators=100;, score=0.584 total time=  23.9s\n",
      "[CV 3/5] END learning_rate=0.01, max_depth=4, n_estimators=100;, score=0.588 total time=  22.3s\n",
      "[CV 4/5] END learning_rate=0.01, max_depth=4, n_estimators=100;, score=0.534 total time=  23.0s\n",
      "[CV 5/5] END learning_rate=0.01, max_depth=4, n_estimators=100;, score=0.512 total time=  22.8s\n",
      "[CV 1/5] END learning_rate=0.01, max_depth=4, n_estimators=200;, score=0.532 total time=  44.0s\n",
      "[CV 2/5] END learning_rate=0.01, max_depth=4, n_estimators=200;, score=0.600 total time=  41.6s\n",
      "[CV 3/5] END learning_rate=0.01, max_depth=4, n_estimators=200;, score=0.617 total time=  41.2s\n",
      "[CV 4/5] END learning_rate=0.01, max_depth=4, n_estimators=200;, score=0.576 total time=  43.2s\n",
      "[CV 5/5] END learning_rate=0.01, max_depth=4, n_estimators=200;, score=0.517 total time=  42.6s\n"
     ]
    },
    {
     "name": "stdout",
     "output_type": "stream",
     "text": [
      "[CV 1/5] END learning_rate=0.01, max_depth=4, n_estimators=500;, score=0.541 total time= 2.0min\n",
      "[CV 2/5] END learning_rate=0.01, max_depth=4, n_estimators=500;, score=0.656 total time= 2.0min\n",
      "[CV 3/5] END learning_rate=0.01, max_depth=4, n_estimators=500;, score=0.593 total time= 2.1min\n",
      "[CV 4/5] END learning_rate=0.01, max_depth=4, n_estimators=500;, score=0.613 total time= 2.1min\n",
      "[CV 5/5] END learning_rate=0.01, max_depth=4, n_estimators=500;, score=0.531 total time= 2.0min\n",
      "[CV 1/5] END learning_rate=0.01, max_depth=5, n_estimators=100;, score=0.529 total time=  29.7s\n",
      "[CV 2/5] END learning_rate=0.01, max_depth=5, n_estimators=100;, score=0.591 total time=  30.1s\n",
      "[CV 3/5] END learning_rate=0.01, max_depth=5, n_estimators=100;, score=0.598 total time=  28.9s\n",
      "[CV 4/5] END learning_rate=0.01, max_depth=5, n_estimators=100;, score=0.577 total time=  29.2s\n",
      "[CV 5/5] END learning_rate=0.01, max_depth=5, n_estimators=100;, score=0.514 total time=  28.4s\n",
      "[CV 1/5] END learning_rate=0.01, max_depth=5, n_estimators=200;, score=0.540 total time=  59.5s\n",
      "[CV 2/5] END learning_rate=0.01, max_depth=5, n_estimators=200;, score=0.613 total time=  53.1s\n",
      "[CV 3/5] END learning_rate=0.01, max_depth=5, n_estimators=200;, score=0.621 total time=  55.8s\n",
      "[CV 4/5] END learning_rate=0.01, max_depth=5, n_estimators=200;, score=0.590 total time=  55.5s\n",
      "[CV 5/5] END learning_rate=0.01, max_depth=5, n_estimators=200;, score=0.527 total time=  49.4s\n",
      "[CV 1/5] END learning_rate=0.01, max_depth=5, n_estimators=500;, score=0.544 total time= 2.1min\n",
      "[CV 2/5] END learning_rate=0.01, max_depth=5, n_estimators=500;, score=0.650 total time= 2.2min\n",
      "[CV 3/5] END learning_rate=0.01, max_depth=5, n_estimators=500;, score=0.610 total time= 2.3min\n",
      "[CV 4/5] END learning_rate=0.01, max_depth=5, n_estimators=500;, score=0.629 total time= 2.3min\n",
      "[CV 5/5] END learning_rate=0.01, max_depth=5, n_estimators=500;, score=0.534 total time= 2.3min\n",
      "[CV 1/5] END learning_rate=0.01, max_depth=6, n_estimators=100;, score=0.558 total time=  33.5s\n",
      "[CV 2/5] END learning_rate=0.01, max_depth=6, n_estimators=100;, score=0.588 total time=  32.8s\n",
      "[CV 3/5] END learning_rate=0.01, max_depth=6, n_estimators=100;, score=0.668 total time=  34.0s\n",
      "[CV 4/5] END learning_rate=0.01, max_depth=6, n_estimators=100;, score=0.630 total time=  33.5s\n",
      "[CV 5/5] END learning_rate=0.01, max_depth=6, n_estimators=100;, score=0.529 total time=  31.7s\n",
      "[CV 1/5] END learning_rate=0.01, max_depth=6, n_estimators=200;, score=0.547 total time= 1.1min\n",
      "[CV 2/5] END learning_rate=0.01, max_depth=6, n_estimators=200;, score=0.594 total time= 1.1min\n",
      "[CV 3/5] END learning_rate=0.01, max_depth=6, n_estimators=200;, score=0.638 total time= 1.1min\n",
      "[CV 4/5] END learning_rate=0.01, max_depth=6, n_estimators=200;, score=0.648 total time= 1.0min\n",
      "[CV 5/5] END learning_rate=0.01, max_depth=6, n_estimators=200;, score=0.530 total time= 1.1min\n",
      "[CV 1/5] END learning_rate=0.01, max_depth=6, n_estimators=500;, score=0.548 total time= 2.7min\n",
      "[CV 2/5] END learning_rate=0.01, max_depth=6, n_estimators=500;, score=0.607 total time= 2.6min\n",
      "[CV 3/5] END learning_rate=0.01, max_depth=6, n_estimators=500;, score=0.625 total time= 2.7min\n",
      "[CV 4/5] END learning_rate=0.01, max_depth=6, n_estimators=500;, score=0.653 total time= 2.6min\n",
      "[CV 5/5] END learning_rate=0.01, max_depth=6, n_estimators=500;, score=0.535 total time= 2.7min\n",
      "[CV 1/5] END learning_rate=0.05, max_depth=3, n_estimators=100;, score=0.530 total time=  18.4s\n",
      "[CV 2/5] END learning_rate=0.05, max_depth=3, n_estimators=100;, score=0.604 total time=  18.9s\n",
      "[CV 3/5] END learning_rate=0.05, max_depth=3, n_estimators=100;, score=0.586 total time=  18.6s\n",
      "[CV 4/5] END learning_rate=0.05, max_depth=3, n_estimators=100;, score=0.585 total time=  15.6s\n",
      "[CV 5/5] END learning_rate=0.05, max_depth=3, n_estimators=100;, score=0.527 total time=  16.5s\n",
      "[CV 1/5] END learning_rate=0.05, max_depth=3, n_estimators=200;, score=0.539 total time=  34.0s\n",
      "[CV 2/5] END learning_rate=0.05, max_depth=3, n_estimators=200;, score=0.605 total time=  33.0s\n",
      "[CV 3/5] END learning_rate=0.05, max_depth=3, n_estimators=200;, score=0.592 total time=  32.6s\n",
      "[CV 4/5] END learning_rate=0.05, max_depth=3, n_estimators=200;, score=0.626 total time=  33.0s\n",
      "[CV 5/5] END learning_rate=0.05, max_depth=3, n_estimators=200;, score=0.530 total time=  32.7s\n",
      "[CV 1/5] END learning_rate=0.05, max_depth=3, n_estimators=500;, score=0.548 total time= 1.3min\n",
      "[CV 2/5] END learning_rate=0.05, max_depth=3, n_estimators=500;, score=0.658 total time= 1.3min\n",
      "[CV 3/5] END learning_rate=0.05, max_depth=3, n_estimators=500;, score=0.595 total time= 1.4min\n",
      "[CV 4/5] END learning_rate=0.05, max_depth=3, n_estimators=500;, score=0.659 total time= 1.3min\n",
      "[CV 5/5] END learning_rate=0.05, max_depth=3, n_estimators=500;, score=0.537 total time= 1.5min\n",
      "[CV 1/5] END learning_rate=0.05, max_depth=4, n_estimators=100;, score=0.541 total time=  22.3s\n",
      "[CV 2/5] END learning_rate=0.05, max_depth=4, n_estimators=100;, score=0.645 total time=  22.4s\n",
      "[CV 3/5] END learning_rate=0.05, max_depth=4, n_estimators=100;, score=0.592 total time=  21.3s\n",
      "[CV 4/5] END learning_rate=0.05, max_depth=4, n_estimators=100;, score=0.632 total time=  21.8s\n",
      "[CV 5/5] END learning_rate=0.05, max_depth=4, n_estimators=100;, score=0.528 total time=  22.0s\n",
      "[CV 1/5] END learning_rate=0.05, max_depth=4, n_estimators=200;, score=0.544 total time=  45.2s\n",
      "[CV 2/5] END learning_rate=0.05, max_depth=4, n_estimators=200;, score=0.663 total time=  43.7s\n",
      "[CV 3/5] END learning_rate=0.05, max_depth=4, n_estimators=200;, score=0.594 total time=  46.8s\n",
      "[CV 4/5] END learning_rate=0.05, max_depth=4, n_estimators=200;, score=0.656 total time=  46.0s\n",
      "[CV 5/5] END learning_rate=0.05, max_depth=4, n_estimators=200;, score=0.534 total time=  44.0s\n",
      "[CV 1/5] END learning_rate=0.05, max_depth=4, n_estimators=500;, score=0.550 total time= 1.9min\n",
      "[CV 2/5] END learning_rate=0.05, max_depth=4, n_estimators=500;, score=0.673 total time= 2.0min\n",
      "[CV 3/5] END learning_rate=0.05, max_depth=4, n_estimators=500;, score=0.610 total time= 2.0min\n",
      "[CV 4/5] END learning_rate=0.05, max_depth=4, n_estimators=500;, score=0.668 total time= 1.9min\n",
      "[CV 5/5] END learning_rate=0.05, max_depth=4, n_estimators=500;, score=0.547 total time= 1.9min\n",
      "[CV 1/5] END learning_rate=0.05, max_depth=5, n_estimators=100;, score=0.543 total time=  29.2s\n",
      "[CV 2/5] END learning_rate=0.05, max_depth=5, n_estimators=100;, score=0.636 total time=  38.0s\n",
      "[CV 3/5] END learning_rate=0.05, max_depth=5, n_estimators=100;, score=0.605 total time=  45.3s\n",
      "[CV 4/5] END learning_rate=0.05, max_depth=5, n_estimators=100;, score=0.640 total time=  36.6s\n",
      "[CV 5/5] END learning_rate=0.05, max_depth=5, n_estimators=100;, score=0.534 total time=  28.1s\n",
      "[CV 1/5] END learning_rate=0.05, max_depth=5, n_estimators=200;, score=0.546 total time=  56.1s\n",
      "[CV 2/5] END learning_rate=0.05, max_depth=5, n_estimators=200;, score=0.634 total time= 1.5min\n",
      "[CV 3/5] END learning_rate=0.05, max_depth=5, n_estimators=200;, score=0.600 total time=  56.5s\n",
      "[CV 4/5] END learning_rate=0.05, max_depth=5, n_estimators=200;, score=0.652 total time=  59.1s\n",
      "[CV 5/5] END learning_rate=0.05, max_depth=5, n_estimators=200;, score=0.535 total time=  54.3s\n",
      "[CV 1/5] END learning_rate=0.05, max_depth=5, n_estimators=500;, score=0.556 total time= 2.4min\n",
      "[CV 2/5] END learning_rate=0.05, max_depth=5, n_estimators=500;, score=0.651 total time= 2.5min\n",
      "[CV 3/5] END learning_rate=0.05, max_depth=5, n_estimators=500;, score=0.629 total time= 2.5min\n",
      "[CV 4/5] END learning_rate=0.05, max_depth=5, n_estimators=500;, score=0.660 total time= 2.2min\n",
      "[CV 5/5] END learning_rate=0.05, max_depth=5, n_estimators=500;, score=0.540 total time= 2.3min\n",
      "[CV 1/5] END learning_rate=0.05, max_depth=6, n_estimators=100;, score=0.547 total time=  29.8s\n",
      "[CV 2/5] END learning_rate=0.05, max_depth=6, n_estimators=100;, score=0.609 total time=  29.5s\n",
      "[CV 3/5] END learning_rate=0.05, max_depth=6, n_estimators=100;, score=0.626 total time=  33.6s\n",
      "[CV 4/5] END learning_rate=0.05, max_depth=6, n_estimators=100;, score=0.647 total time=  34.0s\n",
      "[CV 5/5] END learning_rate=0.05, max_depth=6, n_estimators=100;, score=0.535 total time=  30.2s\n",
      "[CV 1/5] END learning_rate=0.05, max_depth=6, n_estimators=200;, score=0.548 total time= 1.1min\n"
     ]
    },
    {
     "name": "stdout",
     "output_type": "stream",
     "text": [
      "[CV 2/5] END learning_rate=0.05, max_depth=6, n_estimators=200;, score=0.619 total time= 1.1min\n",
      "[CV 3/5] END learning_rate=0.05, max_depth=6, n_estimators=200;, score=0.618 total time= 1.0min\n",
      "[CV 4/5] END learning_rate=0.05, max_depth=6, n_estimators=200;, score=0.646 total time= 1.0min\n",
      "[CV 5/5] END learning_rate=0.05, max_depth=6, n_estimators=200;, score=0.536 total time= 1.0min\n",
      "[CV 1/5] END learning_rate=0.05, max_depth=6, n_estimators=500;, score=0.554 total time= 2.6min\n",
      "[CV 2/5] END learning_rate=0.05, max_depth=6, n_estimators=500;, score=0.624 total time= 2.6min\n",
      "[CV 3/5] END learning_rate=0.05, max_depth=6, n_estimators=500;, score=0.624 total time= 2.5min\n",
      "[CV 4/5] END learning_rate=0.05, max_depth=6, n_estimators=500;, score=0.666 total time= 2.6min\n",
      "[CV 5/5] END learning_rate=0.05, max_depth=6, n_estimators=500;, score=0.539 total time= 3.3min\n",
      "[CV 1/5] END learning_rate=0.1, max_depth=3, n_estimators=100;, score=0.538 total time=  27.9s\n",
      "[CV 2/5] END learning_rate=0.1, max_depth=3, n_estimators=100;, score=0.600 total time=  20.2s\n",
      "[CV 3/5] END learning_rate=0.1, max_depth=3, n_estimators=100;, score=0.584 total time=  15.0s\n",
      "[CV 4/5] END learning_rate=0.1, max_depth=3, n_estimators=100;, score=0.633 total time=  15.4s\n",
      "[CV 5/5] END learning_rate=0.1, max_depth=3, n_estimators=100;, score=0.532 total time=  16.2s\n",
      "[CV 1/5] END learning_rate=0.1, max_depth=3, n_estimators=200;, score=0.547 total time=  31.6s\n",
      "[CV 2/5] END learning_rate=0.1, max_depth=3, n_estimators=200;, score=0.649 total time=  32.5s\n",
      "[CV 3/5] END learning_rate=0.1, max_depth=3, n_estimators=200;, score=0.589 total time=  33.5s\n",
      "[CV 4/5] END learning_rate=0.1, max_depth=3, n_estimators=200;, score=0.640 total time=  32.4s\n",
      "[CV 5/5] END learning_rate=0.1, max_depth=3, n_estimators=200;, score=0.535 total time=  34.3s\n",
      "[CV 1/5] END learning_rate=0.1, max_depth=3, n_estimators=500;, score=0.552 total time= 1.3min\n",
      "[CV 2/5] END learning_rate=0.1, max_depth=3, n_estimators=500;, score=0.693 total time= 1.6min\n",
      "[CV 3/5] END learning_rate=0.1, max_depth=3, n_estimators=500;, score=0.599 total time= 1.3min\n",
      "[CV 4/5] END learning_rate=0.1, max_depth=3, n_estimators=500;, score=0.653 total time= 1.4min\n",
      "[CV 5/5] END learning_rate=0.1, max_depth=3, n_estimators=500;, score=0.563 total time= 1.3min\n",
      "[CV 1/5] END learning_rate=0.1, max_depth=4, n_estimators=100;, score=0.542 total time=  21.5s\n",
      "[CV 2/5] END learning_rate=0.1, max_depth=4, n_estimators=100;, score=0.664 total time=  19.8s\n",
      "[CV 3/5] END learning_rate=0.1, max_depth=4, n_estimators=100;, score=0.597 total time=  20.8s\n",
      "[CV 4/5] END learning_rate=0.1, max_depth=4, n_estimators=100;, score=0.638 total time=  23.7s\n",
      "[CV 5/5] END learning_rate=0.1, max_depth=4, n_estimators=100;, score=0.534 total time=  20.5s\n",
      "[CV 1/5] END learning_rate=0.1, max_depth=4, n_estimators=200;, score=0.548 total time=  43.7s\n",
      "[CV 2/5] END learning_rate=0.1, max_depth=4, n_estimators=200;, score=0.672 total time=  43.7s\n",
      "[CV 3/5] END learning_rate=0.1, max_depth=4, n_estimators=200;, score=0.604 total time=  39.3s\n",
      "[CV 4/5] END learning_rate=0.1, max_depth=4, n_estimators=200;, score=0.659 total time=  44.4s\n",
      "[CV 5/5] END learning_rate=0.1, max_depth=4, n_estimators=200;, score=0.542 total time= 1.0min\n",
      "[CV 1/5] END learning_rate=0.1, max_depth=4, n_estimators=500;, score=0.554 total time= 2.0min\n",
      "[CV 2/5] END learning_rate=0.1, max_depth=4, n_estimators=500;, score=0.676 total time= 1.8min\n",
      "[CV 3/5] END learning_rate=0.1, max_depth=4, n_estimators=500;, score=0.609 total time= 1.8min\n",
      "[CV 4/5] END learning_rate=0.1, max_depth=4, n_estimators=500;, score=0.669 total time= 1.7min\n",
      "[CV 5/5] END learning_rate=0.1, max_depth=4, n_estimators=500;, score=0.552 total time= 1.7min\n",
      "[CV 1/5] END learning_rate=0.1, max_depth=5, n_estimators=100;, score=0.544 total time=  26.2s\n",
      "[CV 2/5] END learning_rate=0.1, max_depth=5, n_estimators=100;, score=0.599 total time=  28.3s\n",
      "[CV 3/5] END learning_rate=0.1, max_depth=5, n_estimators=100;, score=0.604 total time=  25.3s\n",
      "[CV 4/5] END learning_rate=0.1, max_depth=5, n_estimators=100;, score=0.668 total time=  27.4s\n",
      "[CV 5/5] END learning_rate=0.1, max_depth=5, n_estimators=100;, score=0.535 total time=  27.5s\n",
      "[CV 1/5] END learning_rate=0.1, max_depth=5, n_estimators=200;, score=0.553 total time=  57.1s\n",
      "[CV 2/5] END learning_rate=0.1, max_depth=5, n_estimators=200;, score=0.603 total time=  50.5s\n",
      "[CV 3/5] END learning_rate=0.1, max_depth=5, n_estimators=200;, score=0.607 total time=  55.4s\n",
      "[CV 4/5] END learning_rate=0.1, max_depth=5, n_estimators=200;, score=0.676 total time=  51.9s\n",
      "[CV 5/5] END learning_rate=0.1, max_depth=5, n_estimators=200;, score=0.537 total time= 1.5min\n",
      "[CV 1/5] END learning_rate=0.1, max_depth=5, n_estimators=500;, score=0.565 total time= 3.1min\n",
      "[CV 2/5] END learning_rate=0.1, max_depth=5, n_estimators=500;, score=0.627 total time= 2.2min\n",
      "[CV 3/5] END learning_rate=0.1, max_depth=5, n_estimators=500;, score=0.625 total time= 2.1min\n",
      "[CV 4/5] END learning_rate=0.1, max_depth=5, n_estimators=500;, score=0.668 total time= 2.1min\n",
      "[CV 5/5] END learning_rate=0.1, max_depth=5, n_estimators=500;, score=0.554 total time= 2.2min\n",
      "[CV 1/5] END learning_rate=0.1, max_depth=6, n_estimators=100;, score=0.554 total time=  29.2s\n",
      "[CV 2/5] END learning_rate=0.1, max_depth=6, n_estimators=100;, score=0.609 total time=  34.7s\n",
      "[CV 3/5] END learning_rate=0.1, max_depth=6, n_estimators=100;, score=0.624 total time=  33.0s\n",
      "[CV 4/5] END learning_rate=0.1, max_depth=6, n_estimators=100;, score=0.659 total time=  31.2s\n",
      "[CV 5/5] END learning_rate=0.1, max_depth=6, n_estimators=100;, score=0.535 total time=  31.4s\n",
      "[CV 1/5] END learning_rate=0.1, max_depth=6, n_estimators=200;, score=0.561 total time= 1.2min\n",
      "[CV 2/5] END learning_rate=0.1, max_depth=6, n_estimators=200;, score=0.621 total time= 1.4min\n",
      "[CV 3/5] END learning_rate=0.1, max_depth=6, n_estimators=200;, score=0.624 total time= 1.1min\n",
      "[CV 4/5] END learning_rate=0.1, max_depth=6, n_estimators=200;, score=0.664 total time= 1.1min\n",
      "[CV 5/5] END learning_rate=0.1, max_depth=6, n_estimators=200;, score=0.535 total time= 1.1min\n",
      "[CV 1/5] END learning_rate=0.1, max_depth=6, n_estimators=500;, score=0.563 total time= 2.6min\n",
      "[CV 2/5] END learning_rate=0.1, max_depth=6, n_estimators=500;, score=0.645 total time= 2.5min\n",
      "[CV 3/5] END learning_rate=0.1, max_depth=6, n_estimators=500;, score=0.632 total time= 2.6min\n",
      "[CV 4/5] END learning_rate=0.1, max_depth=6, n_estimators=500;, score=0.676 total time= 2.6min\n",
      "[CV 5/5] END learning_rate=0.1, max_depth=6, n_estimators=500;, score=0.551 total time= 2.5min\n"
     ]
    }
   ],
   "source": [
    "\n",
    "param_grid = {\n",
    "    'n_estimators': [100, 200, 500],\n",
    "    'learning_rate': [0.001, 0.01, 0.05, 0.1],\n",
    "    'max_depth': [3, 4, 5, 6]\n",
    "}\n",
    "\n",
    "gbt_grid = GridSearchCV(GradientBoostingClassifier(random_state=42), param_grid, cv=5, scoring='f1_macro', verbose=3)\n",
    "gbt_grid.fit(X_train_resampled, y_train_resampled)\n",
    "\n",
    "# Getting the best parameters and estimator\n",
    "best_params = gbt_grid.best_params_\n",
    "best_gbt = gbt_grid.best_estimator_\n"
   ]
  },
  {
   "cell_type": "markdown",
   "id": "3b015eea",
   "metadata": {},
   "source": [
    "### Evaluating the Best Model on the Validation Set\n",
    "\n",
    "Now that we have the best model (best_gbt), we can evaluate its performance on the validation set to see how well it generalizes:"
   ]
  },
  {
   "cell_type": "code",
   "execution_count": 24,
   "id": "4bc95614",
   "metadata": {},
   "outputs": [
    {
     "name": "stdout",
     "output_type": "stream",
     "text": [
      "0.8210862619808307\n",
      "              precision    recall  f1-score   support\n",
      "\n",
      "           1       0.00      0.00      0.00        56\n",
      "           2       0.82      1.00      0.90       514\n",
      "           3       0.00      0.00      0.00        56\n",
      "\n",
      "    accuracy                           0.82       626\n",
      "   macro avg       0.27      0.33      0.30       626\n",
      "weighted avg       0.67      0.82      0.74       626\n",
      "\n"
     ]
    }
   ],
   "source": [
    "y_val_pred = best_gbt.predict(X_val_scaled)\n",
    "accuracy = accuracy_score(y_val, y_val_pred)\n",
    "classification_rep = classification_report(y_val, y_val_pred, zero_division=0)\n",
    "\n",
    "print(accuracy)\n",
    "print(classification_rep)\n"
   ]
  },
  {
   "cell_type": "markdown",
   "id": "4d3108c8",
   "metadata": {},
   "source": [
    "### Predict on the Test Set\n",
    "\n",
    "We'll use the best model from the grid search to predict the outcomes on the test set."
   ]
  },
  {
   "cell_type": "code",
   "execution_count": 22,
   "id": "b6b252bd",
   "metadata": {},
   "outputs": [],
   "source": [
    "y_test_pred = best_gbt.predict(X_test_scaled)\n"
   ]
  },
  {
   "cell_type": "markdown",
   "id": "b386333c",
   "metadata": {},
   "source": [
    "### Evaluate\n",
    "\n",
    "We'll measure the accuracy and generate a classification report to assess precision, recall, f1-score, and support for each class."
   ]
  },
  {
   "cell_type": "code",
   "execution_count": 25,
   "id": "55be99d2",
   "metadata": {},
   "outputs": [
    {
     "name": "stdout",
     "output_type": "stream",
     "text": [
      "Test Accuracy: 0.7261146496815286\n",
      "\n",
      "Classification Report for Test Set:\n",
      "               precision    recall  f1-score   support\n",
      "\n",
      "           1       0.00      0.00      0.00        88\n",
      "           2       0.73      1.00      0.84       456\n",
      "           3       0.00      0.00      0.00        84\n",
      "\n",
      "    accuracy                           0.73       628\n",
      "   macro avg       0.24      0.33      0.28       628\n",
      "weighted avg       0.53      0.73      0.61       628\n",
      "\n"
     ]
    }
   ],
   "source": [
    "# Calculate accuracy\n",
    "test_accuracy = accuracy_score(y_test, y_test_pred)\n",
    "print(\"Test Accuracy:\", test_accuracy)\n",
    "\n",
    "# Generate and print the classification report\n",
    "test_classification_rep = classification_report(y_test, y_test_pred, zero_division=0)\n",
    "print(\"\\nClassification Report for Test Set:\\n\", test_classification_rep)\n"
   ]
  },
  {
   "cell_type": "markdown",
   "id": "2757cbf0",
   "metadata": {},
   "source": [
    "### Result Analysis:\n",
    "\n",
    "Initial Model Performance:\n",
    "\n",
    "Accuracy: ~39.45%\n",
    "The model seems to be doing decently for class 2 but struggles significantly with classes 1 and 3. This might indicate a data imbalance problem.\n",
    "\n",
    "\n",
    "Model Performance after Hyperparameter Tuning on Validation Set:\n",
    "\n",
    "Accuracy: ~82.11%\n",
    "\n",
    "There's a significant improvement in accuracy, but a closer look reveals that the model is now predicting almost everything as class 2. It's failing to recognize classes 1 and 3 entirely, which is evident from the precision, recall, and F1-score of 0 for those classes.\n",
    "\n",
    "\n",
    "Model Performance on Test Set:\n",
    "\n",
    "Accuracy: ~72.61%\n",
    "\n",
    "Similar to the validation results, the model primarily predicts class 2, ignoring classes 1 and 3."
   ]
  },
  {
   "cell_type": "markdown",
   "id": "18751df7",
   "metadata": {},
   "source": [
    "Despite the high accuracy, the model is not effectively distinguishing between all the classes. Relying on accuracy alone can be misleading, especially with imbalanced datasets.\n",
    "\n",
    "The resampling with SMOTE appears to have had unintended consequences. Even though it was meant to improve the model's ability to recognize underrepresented classes, the model's reliance on predicting the majority class (class 2) increased.\n",
    "\n",
    "Hyperparameter tuning did optimize the model's accuracy, but it didn't resolve its inability to recognize all classes."
   ]
  }
 ],
 "metadata": {
  "kernelspec": {
   "display_name": "Python 3 (ipykernel)",
   "language": "python",
   "name": "python3"
  },
  "language_info": {
   "codemirror_mode": {
    "name": "ipython",
    "version": 3
   },
   "file_extension": ".py",
   "mimetype": "text/x-python",
   "name": "python",
   "nbconvert_exporter": "python",
   "pygments_lexer": "ipython3",
   "version": "3.10.11"
  }
 },
 "nbformat": 4,
 "nbformat_minor": 5
}
